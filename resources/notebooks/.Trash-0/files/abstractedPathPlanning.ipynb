{
 "cells": [
  {
   "cell_type": "code",
   "execution_count": null,
   "id": "cfe734f5-2126-4d1d-82d4-dfd7546e3194",
   "metadata": {},
   "outputs": [],
   "source": [
    "# Compute the subgoals from the inflated grid\n",
    "subgoals = lsp.frontier.get_frontiers(inflated_grid)\n",
    "\n",
    "# Handle edge case if goal is \"inside\" frontier\n",
    "lsp.frontier.update_frontiers_goal_in_frontier(\n",
    "    inflated_grid, subgoals, robot.pose, goal)\n",
    "\n",
    "# Plotting code\n",
    "lsp.utils.plotting.plot_grid_with_frontiers(\n",
    "   ax, robot_grid, known_map, subgoals)\n",
    "\n",
    "# Plotting code (instead with inflated grid)\n",
    "lsp.utils.plotting.plot_grid_with_frontiers(\n",
    "   ax, inflated_grid, known_map, subgoals)"
   ]
  }
 ],
 "metadata": {
  "kernelspec": {
   "display_name": "Python 3 (ipykernel)",
   "language": "python",
   "name": "python3"
  },
  "language_info": {
   "codemirror_mode": {
    "name": "ipython",
    "version": 3
   },
   "file_extension": ".py",
   "mimetype": "text/x-python",
   "name": "python",
   "nbconvert_exporter": "python",
   "pygments_lexer": "ipython3",
   "version": "3.10.12"
  }
 },
 "nbformat": 4,
 "nbformat_minor": 5
}
