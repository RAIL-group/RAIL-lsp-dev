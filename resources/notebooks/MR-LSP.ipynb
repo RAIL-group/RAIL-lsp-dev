{
 "cells": [
  {
   "cell_type": "markdown",
   "id": "82cf4977-ddd4-4b65-a938-2bd53c88b102",
   "metadata": {},
   "source": [
    "# Multi-robot Learning Over Subgoals Planning\n",
    "**Multi-robot Learning over Subgoals Planning (MR-LSP)** is a planning framework that allows multiple robots to coordinate and reach a point-goal in partially-mapped environment in minimum expected distance leveraging learning. For more info, refer to the paper: [Paper](https://arxiv.org/abs/2303.16654)\n",
    "\n",
    "In this notebook, we see how we use MR-LSP to make multiple robots reach a point goal."
   ]
  },
  {
   "cell_type": "code",
   "execution_count": 1,
   "id": "d026d6d1-e562-4c94-9ab6-bffcb15d8d1f",
   "metadata": {},
   "outputs": [],
   "source": [
    "import environments\n",
    "import matplotlib.pyplot as plt\n",
    "import lsp\n",
    "import mrlsp\n",
    "import mr_exploration"
   ]
  },
  {
   "cell_type": "markdown",
   "id": "ca031082-374f-4c72-93b3-94be0bdc711e",
   "metadata": {},
   "source": [
    "### Setting the arguments\n",
    "Setting up arguments for the simulator, robot and environment"
   ]
  },
  {
   "cell_type": "code",
   "execution_count": 2,
   "id": "1b4486d7-533b-4618-b2c2-5ef62419d35f",
   "metadata": {
    "scrolled": true
   },
   "outputs": [],
   "source": [
    "# Set the arguments (usually done via the command line)\n",
    "args = lambda: None\n",
    "args.current_seed = 2129\n",
    "args.map_type = 'office2'\n",
    "args.unity_path = '/unity/rail_sim.x86_64'\n",
    "args.save_dir = './'\n",
    "args.num_robots = 2 # the number of robots\n",
    "\n",
    "\n",
    "# Robot Arguments\n",
    "args.step_size = 1.8\n",
    "args.num_primitives = 32\n",
    "args.laser_scanner_num_points = 1024\n",
    "args.field_of_view_deg = 360\n",
    "args.laser_max_range_m = 18\n",
    "\n",
    "args.inflation_radius_m = 0.75\n",
    "args.base_resolution = 0.5\n",
    "args.comm_range = float('inf')\n",
    "args.network_file = '/data/lsp/office/training_logs/dbg/VisLSPOriented.pt'  # This is the learned model for 'office2' environment\n",
    "args.disable_known_grid_correction = True"
   ]
  },
  {
   "cell_type": "markdown",
   "id": "7035f5cd-86f1-45ec-aff2-6ed35f187321",
   "metadata": {},
   "source": [
    "### A simulated environment\n",
    "We run MR-LSP on a simulated environment. The argument `args.map_type = office2` in previous cell lets us set which environment we're running simulation in. You can choose between [`maze`, `office`, and `office2`]. In this notebook, we aim to run simulation in office2 environment.\n",
    "\n",
    "Try changing `args.map_type` to see different maps.\n",
    "\n",
    "NOTE: The `args.network_file` stores the path to a learned model file for `office2` environment. Therefore, in this notebook we're using `office2` environment to visualize MR-LSP planner. You could use the same learned model in `'office'` or `'maze'` environment but the performance would not be good because the newtork is trained in `'office2'` environment. However, you can simulate a non-learned *optimistic* planner in those environment to see its performance (see below on how to do that)."
   ]
  },
  {
   "cell_type": "code",
   "execution_count": 3,
   "id": "bc967e06-0f10-4dda-82f8-8f6d223d83b4",
   "metadata": {},
   "outputs": [
    {
     "data": {
      "image/png": "[encoded data removed]",
      "text/plain": [
       "<Figure size 640x480 with 1 Axes>"
      ]
     },
     "metadata": {},
     "output_type": "display_data"
    }
   ],
   "source": [
    "known_map, map_data, pose, goal = environments.generate.map_and_poses(args)\n",
    "\n",
    "# Plotting\n",
    "fig = plt.figure()\n",
    "mr_exploration.utils.plotting.plot_grid_with_frontiers(ax=plt.gca(),\n",
    "                                              grid_map=known_map,\n",
    "                                              known_map=known_map,\n",
    "                                              frontiers=[])\n",
    "\n",
    "mr_exploration.utils.plotting.plot_pose(plt.gca(), pose, color='blue')\n",
    "#mr_exploration.utils.plotting.plot_pose(plt.gca(), goal, color='green')"
   ]
  },
  {
   "cell_type": "markdown",
   "id": "3c1ad9ad-7c53-4128-98f4-28966b7cbe85",
   "metadata": {},
   "source": [
    "In the cell above, `environments.generate.map_and_poses(args)` gives the map, metadata associated with that map, the start pose, and the goal pose in the environment. We want our multiple robots to start from the start location and reach the goal location."
   ]
  },
  {
   "cell_type": "markdown",
   "id": "bfe5f07c-08ac-409d-827b-493d74ee9f98",
   "metadata": {},
   "source": [
    "### Initializing robots and MR-LSP Planner\n",
    "Our multiple robot team starts from the start location (`pose`) that we got from previous cell. We call `get_robot_team` function to get a list of robots that have `pose` as starting position.\n",
    "\n",
    "#### Planner\n",
    "We initialize MR-LSP planner by `mrlsp.planners.MRLearnedSubgoalPlanner(robot_team, goal_poses, args)'`. If you want to simulate a non-learned *optimistic* planner, change the line to\n",
    "```python\n",
    "planner = mrlsp.planners.MROptimisticPlanner(robot_team, goal_poses, args)\n",
    "```"
   ]
  },
  {
   "cell_type": "code",
   "execution_count": 4,
   "id": "975cc73b-2454-4535-ae4c-ad48942e1407",
   "metadata": {},
   "outputs": [],
   "source": [
    "start_poses = [pose for _ in range(args.num_robots)]\n",
    "#goal_poses = [goal for _ in range(args.num_robots)]\n",
    "\n",
    "# Get robot team\n",
    "robot_team = mr_exploration.utils.utility.get_robot_team(num_robots=args.num_robots,\n",
    "                                                start_poses=start_poses,\n",
    "                                                primitive_length=args.step_size,\n",
    "                                                num_primitives=args.num_primitives,\n",
    "                                                map_data=map_data)\n",
    "\n",
    "# Initialize planner\n",
    "# planner = mrlsp.planners.MRLearnedSubgoalPlanner(robot_team, goal_poses, args)\n",
    "planner = mr_exploration.planners.MROptimisticExplorePlanner(robot_team, args)"
   ]
  },
  {
   "cell_type": "markdown",
   "id": "fc7d2ebc-40bd-444f-b363-87ecf9b2edce",
   "metadata": {},
   "source": [
    "### The visual simulator and the planning loop\n",
    "Learn more about the visual simulator here: ([link](https://github.com/RAIL-group/RAIL-group-software/blob/main/resources/notebooks/RAIL-onboarding-02-visual-simulator.ipynb)). Basically, the lines below are responsible for taking the known_map occupancy grid and setting up a simulated environment using unity game engine. `Simulator` is responsible for simulating laser scan from the robot's position, getting image from robot's panoramic camera and so on.\n",
    "\n",
    "```python\n",
    "# Instantiate the simulated environment\n",
    "world = environments.simulated.OccupancyGridWorld(\n",
    "        known_map,\n",
    "        map_data,\n",
    "        num_breadcrumb_elements=args.num_breadcrumb_elements,\n",
    "        min_breadcrumb_signed_distance=4.0 * args.base_resolution)\n",
    "\n",
    "builder = environments.simulated.WorldBuildingUnityBridge\n",
    "with builder(args.unity_path) as unity_bridge:\n",
    "    unity_bridge.make_world(world)\n",
    "    simulator = lsp.simulators.Simulator(known_map,\n",
    "                                         goal,\n",
    "                                         args,\n",
    "                                         unity_bridge=unity_bridge,\n",
    "                                         world=world,\n",
    "                                         verbose=False)\n",
    "    # set the inflation radius\n",
    "    simulator.frontier_grouping_inflation_radius = simulator.inflation_radius\n",
    "```\n",
    "\n",
    "#### Planning Loop\n",
    "The planning loop (`mrlsp.planners.MRPlanningLoop`) is responsible to make get observations from the robot and making the robot move towards the subgoal. It works in the following way:\n",
    "1) Till any robot reaches the goal:\n",
    "   ```python\n",
    "       for counter, step_data in enumerate(planning_loop):  # 1) while loop (till any robot reaches the goal)\n",
    "           # 2) take observations and give observation to the planner\n",
    "           # 3) planner computes the joint-action for multi-robot team and tells planning_loop to move robots\n",
    "   ```\n",
    "2) The planning loop takes observation from robots sensor (lidar and panoramic camera) and gives it to the planner (MR-LSP planner\n",
    "   ```python\n",
    "   planner.update({'images': step_data['images']},\n",
    "                    step_data['robot_grids'],\n",
    "                    step_data['subgoals'],\n",
    "                    step_data['robot_poses'],\n",
    "                    step_data['visibility_masks'],)\n",
    "   ```\n",
    "3) The planner computes the joint action for the robot team and updates the planning loop. The planning loop makes the robot move towards the action (subgoals) \n",
    "   ```python\n",
    "       joint_action = planner.compute_selected_subgoal()\n",
    "       planning_loop.set_chosen_subgoals(joint_action, counter)\n",
    "   ```"
   ]
  },
  {
   "cell_type": "code",
   "execution_count": 5,
   "id": "4e25213b-d41e-475b-8691-473382978115",
   "metadata": {},
   "outputs": [
    {
     "ename": "TypeError",
     "evalue": "get_multirobot_distances() missing 1 required positional argument: 'subgoals'",
     "output_type": "error",
     "traceback": [
      "\u001b[0;31m---------------------------------------------------------------------------\u001b[0m",
      "\u001b[0;31mTypeError\u001b[0m                                 Traceback (most recent call last)",
      "Cell \u001b[0;32mIn[5], line 32\u001b[0m\n\u001b[1;32m     26\u001b[0m \u001b[38;5;28;01mfor\u001b[39;00m counter, step_data \u001b[38;5;129;01min\u001b[39;00m \u001b[38;5;28menumerate\u001b[39m(planning_loop):\n\u001b[1;32m     27\u001b[0m     planner\u001b[38;5;241m.\u001b[39mupdate({\u001b[38;5;124m'\u001b[39m\u001b[38;5;124mimages\u001b[39m\u001b[38;5;124m'\u001b[39m: step_data[\u001b[38;5;124m'\u001b[39m\u001b[38;5;124mimages\u001b[39m\u001b[38;5;124m'\u001b[39m]},\n\u001b[1;32m     28\u001b[0m                     step_data[\u001b[38;5;124m'\u001b[39m\u001b[38;5;124mrobot_grids\u001b[39m\u001b[38;5;124m'\u001b[39m],\n\u001b[1;32m     29\u001b[0m                     step_data[\u001b[38;5;124m'\u001b[39m\u001b[38;5;124msubgoals\u001b[39m\u001b[38;5;124m'\u001b[39m],\n\u001b[1;32m     30\u001b[0m                     step_data[\u001b[38;5;124m'\u001b[39m\u001b[38;5;124mrobot_poses\u001b[39m\u001b[38;5;124m'\u001b[39m],\n\u001b[1;32m     31\u001b[0m                     step_data[\u001b[38;5;124m'\u001b[39m\u001b[38;5;124mvisibility_masks\u001b[39m\u001b[38;5;124m'\u001b[39m],)\n\u001b[0;32m---> 32\u001b[0m     joint_action \u001b[38;5;241m=\u001b[39m \u001b[43mplanner\u001b[49m\u001b[38;5;241;43m.\u001b[39;49m\u001b[43mcompute_selected_subgoal\u001b[49m\u001b[43m(\u001b[49m\u001b[43m)\u001b[49m\n\u001b[1;32m     33\u001b[0m     planning_loop\u001b[38;5;241m.\u001b[39mset_chosen_subgoals(joint_action, counter)\n\u001b[1;32m     35\u001b[0m     \u001b[38;5;66;03m# Print and plot in every 12 steps\u001b[39;00m\n",
      "File \u001b[0;32m/usr/local/lib/python3.8/dist-packages/mr_exploration/planners/optimistic_explore_planner.py:19\u001b[0m, in \u001b[0;36mMROptimisticExplorePlanner.compute_selected_subgoal\u001b[0;34m(self)\u001b[0m\n\u001b[1;32m     16\u001b[0m \u001b[38;5;28;01mdef\u001b[39;00m\u001b[38;5;250m \u001b[39m\u001b[38;5;21mcompute_selected_subgoal\u001b[39m(\u001b[38;5;28mself\u001b[39m):\n\u001b[1;32m     17\u001b[0m \u001b[38;5;250m    \u001b[39m\u001b[38;5;124;03m'''TODO: Right now, goal pose is sent as list: Just because every other function use list of goalsl,\u001b[39;00m\n\u001b[1;32m     18\u001b[0m \u001b[38;5;124;03m    The functionality that is thought to be extended, where goal is multiple'''\u001b[39;00m\n\u001b[0;32m---> 19\u001b[0m     distances_mr \u001b[38;5;241m=\u001b[39m \u001b[43mget_multirobot_distances\u001b[49m\u001b[43m(\u001b[49m\u001b[38;5;28;43mself\u001b[39;49m\u001b[38;5;241;43m.\u001b[39;49m\u001b[43minflated_grid\u001b[49m\u001b[43m,\u001b[49m\u001b[43m \u001b[49m\u001b[38;5;28;43mself\u001b[39;49m\u001b[38;5;241;43m.\u001b[39;49m\u001b[43mrobots\u001b[49m\u001b[43m,\u001b[49m\u001b[43m \u001b[49m\u001b[38;5;28;43mself\u001b[39;49m\u001b[38;5;241;43m.\u001b[39;49m\u001b[43msubgoals\u001b[49m\u001b[43m)\u001b[49m\n\u001b[1;32m     20\u001b[0m     \u001b[38;5;66;03m# find cost for robot to reach goal from all the subgoal, and create a cost matrix.\u001b[39;00m\n\u001b[1;32m     21\u001b[0m     cost_dictionary \u001b[38;5;241m=\u001b[39m [\u001b[38;5;28;01mNone\u001b[39;00m \u001b[38;5;28;01mfor\u001b[39;00m _ \u001b[38;5;129;01min\u001b[39;00m \u001b[38;5;28mrange\u001b[39m(\u001b[38;5;28mlen\u001b[39m(\u001b[38;5;28mself\u001b[39m\u001b[38;5;241m.\u001b[39mrobots))]\n",
      "\u001b[0;31mTypeError\u001b[0m: get_multirobot_distances() missing 1 required positional argument: 'subgoals'"
     ]
    }
   ],
   "source": [
    "# Instantiate the simulated environment\n",
    "# world = environments.simulated.OccupancyGridWorld(\n",
    "#         known_map,\n",
    "#         map_data,\n",
    "#         num_breadcrumb_elements=args.num_breadcrumb_elements,\n",
    "#         min_breadcrumb_signed_distance=4.0 * args.base_resolution)\n",
    "\n",
    "# builder = environments.simulated.WorldBuildingUnityBridge\n",
    "# with builder(args.unity_path) as unity_bridge:\n",
    "#     unity_bridge.make_world(world)\n",
    "if True:\n",
    "    simulator = lsp.simulators.Simulator(known_map,\n",
    "                                         args,\n",
    "                                         unity_bridge=None,\n",
    "                                         world=None,\n",
    "                                         verbose=False)\n",
    "    # set the inflation radius\n",
    "    simulator.frontier_grouping_inflation_radius = simulator.inflation_radius\n",
    "\n",
    "    planning_loop = mr_exploration.planners.MRPlanningLoop(known_map,\n",
    "                                                  simulator,\n",
    "                                                  unity_bridge=None,\n",
    "                                                  robots=robot_team,\n",
    "                                                  args=args,\n",
    "                                                  verbose=False)\n",
    "    for counter, step_data in enumerate(planning_loop):\n",
    "        planner.update({'images': step_data['images']},\n",
    "                        step_data['robot_grids'],\n",
    "                        step_data['subgoals'],\n",
    "                        step_data['robot_poses'],\n",
    "                        step_data['visibility_masks'],)\n",
    "        joint_action = planner.compute_selected_subgoal()\n",
    "        planning_loop.set_chosen_subgoals(joint_action, counter)\n",
    "\n",
    "        # Print and plot in every 12 steps\n",
    "        if counter % 12 == 0:\n",
    "            # printing\n",
    "            print('----------------------------------------')\n",
    "            print(f'Counter: {counter}')\n",
    "            #print(f'Goal: {goal.x}, {goal.y}')\n",
    "            for i, robot in enumerate(robot_team):\n",
    "                print(f'Robot{i}: ({robot.pose.x:.2f}, {robot.pose.y:.2f})')\n",
    "            print(f'Total motion: {robot_team[0].net_motion:.2f}')\n",
    "\n",
    "            # plotting\n",
    "            plt.ion()\n",
    "            plt.figure(1, figsize=(12, 4))\n",
    "            plt.clf()\n",
    "            # mrlsp.utils.plotting.visualize_robots(args=args,\n",
    "            #                                       robots=robot_team,\n",
    "            #                                       observed_map=planner.observed_map,\n",
    "            #                                       pano_images=None,\n",
    "            #                                       subgoals=planner.subgoals,\n",
    "            #                                       goal_pose=goal,\n",
    "            #                                       paths=planning_loop.paths,\n",
    "            #                                       known_map=known_map,\n",
    "            #                                       timestamp=counter)\n",
    "            # plt.show()\n",
    "            #goal_pose=goal\n",
    "            robots=robot_team\n",
    "            subgoals=planner.subgoals\n",
    "            observed_map=planner.observed_map\n",
    "            paths=planning_loop.paths\n",
    "            ax = plt.gca()\n",
    "            mrlsp.utils.plotting.plot_grid_with_frontiers(ax, observed_map, known_map, subgoals)\n",
    "            mrlsp.utils.plotting.plot_pose(ax, filled=False)\n",
    "        \n",
    "            for i in range(args.num_robots):\n",
    "                mrlsp.utils.plotting.plot_pose(ax, robots[i].pose)\n",
    "                mrlsp.utils.plotting.plot_pose_path(ax, robots[i].all_poses)\n",
    "                if paths[i] is not None:\n",
    "                    mrlsp.utils.plotting.plot_path(ax, paths[i])\n",
    "\n",
    "            plt.show()"
   ]
  }
 ],
 "metadata": {
  "kernelspec": {
   "display_name": "Python 3 (ipykernel)",
   "language": "python",
   "name": "python3"
  },
  "language_info": {
   "codemirror_mode": {
    "name": "ipython",
    "version": 3
   },
   "file_extension": ".py",
   "mimetype": "text/x-python",
   "name": "python",
   "nbconvert_exporter": "python",
   "pygments_lexer": "ipython3",
   "version": "3.8.10"
  }
 },
 "nbformat": 4,
 "nbformat_minor": 5
}
