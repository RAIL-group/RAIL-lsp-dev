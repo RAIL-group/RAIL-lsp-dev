{
 "cells": [
  {
   "cell_type": "code",
   "execution_count": 1,
   "id": "f3184a83-79cd-4ae7-97b9-7b6ea8b81503",
   "metadata": {},
   "outputs": [],
   "source": [
    "import matplotlib.pyplot as plt\n",
    "import procthor\n",
    "from procthor.simulators import SceneGraphSimulator\n",
    "import object_search\n",
    "from object_search.planners import PlanningLoop, OptimisticPlanner, LearnedPlanner\n",
    "from pathlib import Path\n",
    "\n",
    "\n",
    "def get_args():\n",
    "    args = lambda key: None  # noqa\n",
    "    args.save_dir = '/data/test_logs'\n",
    "    args.current_seed = 20\n",
    "    args.resolution = 0.05\n",
    "    args.do_save_video = True\n",
    "    args.network_file = '/data/object_search/fcnn.pt'\n",
    "    return args\n",
    "    \n",
    "def test_object_search_learned_planner():\n",
    "    '''Test object search in ProcTHOR environment with OptimisticPlanner'''\n",
    "    args = get_args()\n",
    "    thor_interface = procthor.ThorInterface(args)\n",
    "    known_graph, known_grid, robot_pose, target_obj_info = thor_interface.gen_map_and_poses()\n",
    "    learned_simulator = SceneGraphSimulator(known_graph,\n",
    "                                            args,\n",
    "                                            target_obj_info,\n",
    "                                            known_grid,\n",
    "                                            thor_interface)\n",
    "    learned_robot = object_search.robot.Robot(robot_pose)\n",
    "    learned_planner = LearnedPlanner(target_obj_info, args)\n",
    "    learned_planning_loop = PlanningLoop(target_obj_info, learned_simulator, learned_robot, args=args)\n",
    "    for _, step_data in enumerate(learned_planning_loop):\n",
    "        learned_planner.update(\n",
    "            step_data['observed_graph'],\n",
    "            step_data['observed_grid'],\n",
    "            step_data['subgoals'],\n",
    "            step_data['robot_pose'])\n",
    "        # print(step_data['observed_graph'].idx_map)\n",
    "        chosen_subgoal = learned_planner.compute_selected_subgoal()\n",
    "        learned_planning_loop.set_chosen_subgoal(chosen_subgoal)\n",
    "    learned_cost, learned_trajectory = object_search.utils.compute_cost_and_trajectory(known_grid,\n",
    "                                                                                       learned_robot.all_poses)\n",
    "    cost, trajectory = object_search.utils.compute_cost_and_trajectory(known_grid, learned_robot.all_poses)\n",
    "    plt.figure(figsize=(8, 8))\n",
    "    known_locations = [known_graph.get_node_name_by_idx(idx) for idx in target_obj_info['container_idxs']]\n",
    "    plt.suptitle(f\"Seed: {args.current_seed} | Target object: {target_obj_info['name']}\\n\"\n",
    "                 f\"Known locations: {known_locations} \")\n",
    "    ax = plt.subplot(221)\n",
    "    plt.title('Whole scene graph')\n",
    "    procthor.plotting.plot_graph(ax, known_graph.nodes, known_graph.edges)\n",
    "    ax = plt.subplot(222)\n",
    "    procthor.plotting.plot_graph_on_grid(ax, known_grid, known_graph)\n",
    "    plt.text(robot_pose.x, robot_pose.y, '+', color='red', size=6, rotation=45)\n",
    "    plt.title('Graph over occupancy grid')\n",
    "    plt.subplot(223)\n",
    "    top_down_image = learned_simulator.get_top_down_image()\n",
    "    plt.imshow(top_down_image)\n",
    "    plt.title('Top-down view of the map')\n",
    "    plt.axis('off')\n",
    "    plt.subplot(224)\n",
    "    ax = plt.subplot(224)\n",
    "    object_search.plotting.plot_grid_with_robot_trajectory(ax, known_grid, learned_robot.all_poses, trajectory, known_graph)\n",
    "    plt.title(f\"Cost: {cost:0.3f}\")\n",
    "    # print('testing')"
   ]
  },
  {
   "cell_type": "code",
   "execution_count": 2,
   "id": "df384aa8-7419-4503-a9ac-f75e3695e560",
   "metadata": {},
   "outputs": [
    {
     "name": "stdout",
     "output_type": "stream",
     "text": [
      "-----------Using cached procthor data-----------\n",
      "Target object: cellphone\n",
      "Known locations: ['sofa']\n",
      "Counter: 0 | Count since last turnaround: 100\n"
     ]
    },
    {
     "ename": "AttributeError",
     "evalue": "'SceneGraph' object has no attribute 'idx_map'",
     "output_type": "error",
     "traceback": [
      "\u001b[0;31m---------------------------------------------------------------------------\u001b[0m",
      "\u001b[0;31mAttributeError\u001b[0m                            Traceback (most recent call last)",
      "Cell \u001b[0;32mIn[2], line 1\u001b[0m\n\u001b[0;32m----> 1\u001b[0m \u001b[43mtest_object_search_learned_planner\u001b[49m\u001b[43m(\u001b[49m\u001b[43m)\u001b[49m\n",
      "Cell \u001b[0;32mIn[1], line 37\u001b[0m, in \u001b[0;36mtest_object_search_learned_planner\u001b[0;34m()\u001b[0m\n\u001b[1;32m     31\u001b[0m \u001b[38;5;28;01mfor\u001b[39;00m _, step_data \u001b[38;5;129;01min\u001b[39;00m \u001b[38;5;28menumerate\u001b[39m(learned_planning_loop):\n\u001b[1;32m     32\u001b[0m     learned_planner\u001b[38;5;241m.\u001b[39mupdate(\n\u001b[1;32m     33\u001b[0m         step_data[\u001b[38;5;124m'\u001b[39m\u001b[38;5;124mobserved_graph\u001b[39m\u001b[38;5;124m'\u001b[39m],\n\u001b[1;32m     34\u001b[0m         step_data[\u001b[38;5;124m'\u001b[39m\u001b[38;5;124mobserved_grid\u001b[39m\u001b[38;5;124m'\u001b[39m],\n\u001b[1;32m     35\u001b[0m         step_data[\u001b[38;5;124m'\u001b[39m\u001b[38;5;124msubgoals\u001b[39m\u001b[38;5;124m'\u001b[39m],\n\u001b[1;32m     36\u001b[0m         step_data[\u001b[38;5;124m'\u001b[39m\u001b[38;5;124mrobot_pose\u001b[39m\u001b[38;5;124m'\u001b[39m])\n\u001b[0;32m---> 37\u001b[0m     \u001b[38;5;28mprint\u001b[39m(\u001b[43mstep_data\u001b[49m\u001b[43m[\u001b[49m\u001b[38;5;124;43m'\u001b[39;49m\u001b[38;5;124;43mobserved_graph\u001b[39;49m\u001b[38;5;124;43m'\u001b[39;49m\u001b[43m]\u001b[49m\u001b[38;5;241;43m.\u001b[39;49m\u001b[43midx_map\u001b[49m)\n\u001b[1;32m     38\u001b[0m     chosen_subgoal \u001b[38;5;241m=\u001b[39m learned_planner\u001b[38;5;241m.\u001b[39mcompute_selected_subgoal()\n\u001b[1;32m     39\u001b[0m     learned_planning_loop\u001b[38;5;241m.\u001b[39mset_chosen_subgoal(chosen_subgoal)\n",
      "\u001b[0;31mAttributeError\u001b[0m: 'SceneGraph' object has no attribute 'idx_map'"
     ]
    }
   ],
   "source": [
    "test_object_search_learned_planner()"
   ]
  },
  {
   "cell_type": "code",
   "execution_count": null,
   "id": "81b8145a-8cd9-4e6c-965e-c124d6e32536",
   "metadata": {},
   "outputs": [],
   "source": []
  }
 ],
 "metadata": {
  "kernelspec": {
   "display_name": "Python 3 (ipykernel)",
   "language": "python",
   "name": "python3"
  },
  "language_info": {
   "codemirror_mode": {
    "name": "ipython",
    "version": 3
   },
   "file_extension": ".py",
   "mimetype": "text/x-python",
   "name": "python",
   "nbconvert_exporter": "python",
   "pygments_lexer": "ipython3",
   "version": "3.10.12"
  }
 },
 "nbformat": 4,
 "nbformat_minor": 5
}
