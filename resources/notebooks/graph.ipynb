{
 "cells": [
  {
   "cell_type": "code",
   "execution_count": 1,
   "id": "094a6862-c17e-43e9-a3a3-c277a4ed90eb",
   "metadata": {},
   "outputs": [
    {
     "name": "stderr",
     "output_type": "stream",
     "text": [
      "Matplotlib is building the font cache; this may take a moment.\n"
     ]
    }
   ],
   "source": [
    "import matplotlib.pyplot as plt\n",
    "import procthor\n",
    "from procthor.simulators import SceneGraphSimulator\n",
    "import object_search\n",
    "from object_search.planners import PlanningLoop, OptimisticPlanner\n",
    "from pathlib import Path\n",
    "\n",
    "\n",
    "def get_args():\n",
    "    args = lambda key: None  # noqa\n",
    "    args.save_dir = '/data/test_logs'\n",
    "    args.current_seed = 60\n",
    "    args.resolution = 0.05\n",
    "    args.do_save_video = True\n",
    "    return args\n",
    "\n",
    "\n",
    "def test_object_search_optimistic_planner():\n",
    "    '''Test object search in ProcTHOR environment with OptimisticPlanner'''\n",
    "    args = get_args()\n",
    "    thor_interface = procthor.ThorInterface(args)\n",
    "    known_graph, known_grid, robot_pose, target_obj_info = thor_interface.gen_map_and_poses()\n",
    "    simulator = SceneGraphSimulator(known_graph,\n",
    "                                    args,\n",
    "                                    target_obj_info,\n",
    "                                    known_grid,\n",
    "                                    thor_interface)\n",
    "\n",
    "    robot = object_search.robot.Robot(robot_pose)\n",
    "    planner = OptimisticPlanner(target_obj_info, args)\n",
    "\n",
    "    planning_loop = PlanningLoop(target_obj_info, simulator, robot, args=args, verbose=True)\n",
    "\n",
    "    for _, step_data in enumerate(planning_loop):\n",
    "        planner.update(\n",
    "            step_data['observed_graph'],\n",
    "            step_data['observed_grid'],\n",
    "            step_data['subgoals'],\n",
    "            step_data['robot_pose'])\n",
    "\n",
    "        chosen_subgoal = planner.compute_selected_subgoal()\n",
    "        planning_loop.set_chosen_subgoal(chosen_subgoal)\n",
    "\n",
    "    cost, trajectory = object_search.utils.compute_cost_and_trajectory(known_grid, robot.all_poses)\n",
    "\n",
    "    plt.figure(figsize=(8, 8))\n",
    "    known_locations = [known_graph.get_node_name_by_idx(idx) for idx in target_obj_info['container_idxs']]\n",
    "    plt.suptitle(f\"Seed: {args.current_seed} | Target object: {target_obj_info['name']}\\n\"\n",
    "                 f\"Known locations: {known_locations} \")\n",
    "\n",
    "    ax = plt.subplot(221)\n",
    "    plt.title('Whole scene graph')\n",
    "    procthor.plotting.plot_graph(ax, known_graph.nodes, known_graph.edges)\n",
    "\n",
    "    ax = plt.subplot(222)\n",
    "    procthor.plotting.plot_graph_on_grid(ax, known_grid, known_graph)\n",
    "    plt.text(robot_pose.x, robot_pose.y, '+', color='red', size=6, rotation=45)\n",
    "    plt.title('Graph over occupancy grid')\n",
    "\n",
    "    plt.subplot(223)\n",
    "    top_down_image = simulator.get_top_down_image()\n",
    "    plt.imshow(top_down_image)\n",
    "    plt.title('Top-down view of the map')\n",
    "    plt.axis('off')\n",
    "\n",
    "    plt.subplot(224)\n",
    "    ax = plt.subplot(224)\n",
    "    object_search.plotting.plot_grid_with_robot_trajectory(ax, known_grid, robot.all_poses, trajectory, known_graph)\n",
    "    plt.title(f\"Cost: {cost:0.3f}\")\n",
    "\n",
    "    plt.savefig(Path(args.save_dir) / f'object_search_optimistic_{args.current_seed}.png', dpi=1000)\n",
    "\n",
    "    video_file_path = Path(args.save_dir) / f'object_search_optimistic_{args.current_seed}.mp4'\n",
    "    fig_title = f'Seed: {args.current_seed} | Target object: {target_obj_info[\"name\"]}'\n",
    "\n",
    "    if args.do_save_video:\n",
    "        object_search.plotting.save_navigation_video(trajectory,\n",
    "                                                     thor_interface,\n",
    "                                                     video_file_path=video_file_path,\n",
    "                                                     fig_title=fig_title)\n"
   ]
  },
  {
   "cell_type": "code",
   "execution_count": null,
   "id": "693fae75-bfe3-4360-8f1a-c9f77fde42d7",
   "metadata": {},
   "outputs": [],
   "source": [
    "test_object_search_optimistic_planner()"
   ]
  },
  {
   "cell_type": "code",
   "execution_count": null,
   "id": "d7422935-78c1-4c75-a016-a942229a47e4",
   "metadata": {},
   "outputs": [],
   "source": []
  }
 ],
 "metadata": {
  "kernelspec": {
   "display_name": "Python 3 (ipykernel)",
   "language": "python",
   "name": "python3"
  },
  "language_info": {
   "codemirror_mode": {
    "name": "ipython",
    "version": 3
   },
   "file_extension": ".py",
   "mimetype": "text/x-python",
   "name": "python",
   "nbconvert_exporter": "python",
   "pygments_lexer": "ipython3",
   "version": "3.10.12"
  }
 },
 "nbformat": 4,
 "nbformat_minor": 5
}
